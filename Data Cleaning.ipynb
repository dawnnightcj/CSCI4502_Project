{
 "cells": [
  {
   "cell_type": "code",
   "execution_count": 1,
   "metadata": {},
   "outputs": [],
   "source": [
    "import numpy as np\n",
    "import pandas as pd\n",
    "\n",
    "# Source\n",
    "\n",
    "def data_cleaning(fname):\n",
    "    df = pd.read_csv(fname)\n",
    "    # delete three cols: End_Lat, End_Lng, Number and Precipitation\n",
    "    df = df.drop(['End_Lat', 'End_Lng', 'Number', 'Precipitation(in)'], axis=1)\n",
    "    # fill missing value's place with column's mode or mean\n",
    "    for col in df.columns:\n",
    "        # only for severity column\n",
    "        if df[col].dtypes == 'int64':\n",
    "            #fill missing value's place with column's mode\n",
    "            df[col] = df[col].fillna(df[col].mode()) \n",
    "        if df[col].dtypes == 'float64':\n",
    "            if col == 'TMC' or col == 'Start_Lat' or col == 'Start_Lng':\n",
    "                df[col] = df[col].fillna(df[col].mode())\n",
    "            else:\n",
    "                #fill missing value's place with column's mean\n",
    "                df[col] = df[col].fillna(df[col].mean()) \n",
    "    # remove missing values's row for columns'dtype == object\n",
    "    df = df.dropna()\n",
    "    print(df)\n"
   ]
  },
  {
   "cell_type": "code",
   "execution_count": 2,
   "metadata": {},
   "outputs": [
    {
     "name": "stdout",
     "output_type": "stream",
     "text": [
      "                ID    Source    TMC  Severity           Start_Time  \\\n",
      "0              A-1  MapQuest  201.0         3  2016-02-08 05:46:00   \n",
      "1              A-2  MapQuest  201.0         2  2016-02-08 06:07:59   \n",
      "2              A-3  MapQuest  201.0         2  2016-02-08 06:49:27   \n",
      "3              A-4  MapQuest  201.0         3  2016-02-08 07:23:34   \n",
      "4              A-5  MapQuest  201.0         2  2016-02-08 07:39:07   \n",
      "...            ...       ...    ...       ...                  ...   \n",
      "2478813  A-2478854  MapQuest  201.0         3  2017-08-30 18:41:30   \n",
      "2478814  A-2478855  MapQuest  201.0         3  2017-08-30 18:59:02   \n",
      "2478815  A-2478856  MapQuest  201.0         3  2017-08-30 18:57:52   \n",
      "2478816  A-2478857  MapQuest  201.0         3  2017-08-30 19:49:01   \n",
      "2478817  A-2478858  MapQuest  201.0         2  2017-08-30 20:17:21   \n",
      "\n",
      "                    End_Time  Start_Lat   Start_Lng  Distance(mi)  \\\n",
      "0        2016-02-08 11:00:00  39.865147  -84.058723          0.01   \n",
      "1        2016-02-08 06:37:59  39.928059  -82.831184          0.01   \n",
      "2        2016-02-08 07:19:27  39.063148  -84.032608          0.01   \n",
      "3        2016-02-08 07:53:34  39.747753  -84.205582          0.01   \n",
      "4        2016-02-08 08:09:07  39.627781  -84.188354          0.01   \n",
      "...                      ...        ...         ...           ...   \n",
      "2478813  2017-08-30 19:11:07  34.495808 -118.623932          0.00   \n",
      "2478814  2017-08-30 19:27:57  34.031322 -118.433723          0.00   \n",
      "2478815  2017-08-30 19:26:11  34.106785 -117.369102          0.00   \n",
      "2478816  2017-08-30 20:18:00  33.924686 -118.103981          0.00   \n",
      "2478817  2017-08-30 20:47:21  33.729469 -117.397354          0.00   \n",
      "\n",
      "                                               Description  ... Roundabout  \\\n",
      "0        Right lane blocked due to accident on I-70 Eas...  ...      False   \n",
      "1        Accident on Brice Rd at Tussing Rd. Expect del...  ...      False   \n",
      "2        Accident on OH-32 State Route 32 Westbound at ...  ...      False   \n",
      "3        Accident on I-75 Southbound at Exits 52 52B US...  ...      False   \n",
      "4        Accident on McEwen Rd at OH-725 Miamisburg Cen...  ...      False   \n",
      "...                                                    ...  ...        ...   \n",
      "2478813  Accident on I-5 Southbound at Forest Rte-7N09 ...  ...      False   \n",
      "2478814  Left lane closed due to accident on I-10 at Na...  ...      False   \n",
      "2478815      Accident on Olive Ave at CA-66 Foothill Blvd.  ...      False   \n",
      "2478816  #1 lane blocked due to accident on I-605 North...  ...      False   \n",
      "2478817  Accident on Temescal Canyon Rd Eastbound in La...  ...      False   \n",
      "\n",
      "        Station   Stop Traffic_Calming Traffic_Signal Turning_Loop  \\\n",
      "0         False  False           False          False        False   \n",
      "1         False  False           False          False        False   \n",
      "2         False  False           False           True        False   \n",
      "3         False  False           False          False        False   \n",
      "4         False  False           False           True        False   \n",
      "...         ...    ...             ...            ...          ...   \n",
      "2478813   False  False           False          False        False   \n",
      "2478814   False  False           False          False        False   \n",
      "2478815   False  False           False          False        False   \n",
      "2478816   False  False           False          False        False   \n",
      "2478817   False  False           False          False        False   \n",
      "\n",
      "        Sunrise_Sunset Civil_Twilight Nautical_Twilight Astronomical_Twilight  \n",
      "0                Night          Night             Night                 Night  \n",
      "1                Night          Night             Night                   Day  \n",
      "2                Night          Night               Day                   Day  \n",
      "3                Night            Day               Day                   Day  \n",
      "4                  Day            Day               Day                   Day  \n",
      "...                ...            ...               ...                   ...  \n",
      "2478813            Day            Day               Day                   Day  \n",
      "2478814            Day            Day               Day                   Day  \n",
      "2478815            Day            Day               Day                   Day  \n",
      "2478816          Night          Night               Day                   Day  \n",
      "2478817          Night          Night             Night                   Day  \n",
      "\n",
      "[2424778 rows x 45 columns]\n"
     ]
    }
   ],
   "source": [
    "data_cleaning(\"US_Accidents_June20.csv\")"
   ]
  },
  {
   "cell_type": "code",
   "execution_count": null,
   "metadata": {},
   "outputs": [],
   "source": []
  }
 ],
 "metadata": {
  "kernelspec": {
   "display_name": "Python 3",
   "language": "python",
   "name": "python3"
  },
  "language_info": {
   "codemirror_mode": {
    "name": "ipython",
    "version": 3
   },
   "file_extension": ".py",
   "mimetype": "text/x-python",
   "name": "python",
   "nbconvert_exporter": "python",
   "pygments_lexer": "ipython3",
   "version": "3.8.5"
  }
 },
 "nbformat": 4,
 "nbformat_minor": 2
}
