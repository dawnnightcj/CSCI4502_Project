{
 "cells": [
  {
   "cell_type": "code",
   "execution_count": null,
   "metadata": {},
   "outputs": [],
   "source": [
    "import numpy as np\n",
    "import pandas as pd\n",
    "\n",
    "# data cleaning\n",
    "\n",
    "def data_cleaning(fname):\n",
    "    df = pd.read_csv(fname)\n",
    "    # delete three cols: End_Lat, End_Lng, Number and Precipitation\n",
    "    df = df.drop(['End_Lat', 'End_Lng', 'Number', 'Precipitation(in)'], axis=1)\n",
    "    # fill missing value's place with column's mode or mean\n",
    "    for col in df.columns:\n",
    "        # only for severity column\n",
    "        if df[col].dtypes == 'int64':\n",
    "            #fill missing value's place with column's mode\n",
    "            df[col] = df[col].fillna(df[col].mode()) \n",
    "        if df[col].dtypes == 'float64':\n",
    "            if col == 'TMC' or col == 'Start_Lat' or col == 'Start_Lng':\n",
    "                df[col] = df[col].fillna(df[col].mode())\n",
    "            else:\n",
    "                #fill missing value's place with column's mean\n",
    "                df[col] = df[col].fillna(df[col].mean()) \n",
    "    # remove missing values's row for columns'dtype == object\n",
    "    df = df.dropna()\n",
    "    return df"
   ]
  },
  {
   "cell_type": "code",
   "execution_count": null,
   "metadata": {},
   "outputs": [],
   "source": [
    "df = data_cleaning(\"US_Accidents_June20.csv\")"
   ]
  },
  {
   "cell_type": "markdown",
   "metadata": {},
   "source": [
    "data selection\n",
    "\n",
    "Figure 1: Column: Start_Time         \n",
    "          Day of week: 2/8/2016       \n",
    "          Hour of day(workdays): 5:46         \n",
    "          Hour of day(weekend): 5:46        \n",
    "\n",
    "Figure 2: Columns: Source, Amenity, Bump, Crossing, Give_Way, Junction, No_Exit, Railway, Roundabout, Station, Stop, Traffic_Calming, Traffic_Signal, Turning_loop        \n",
    "          Calculate percentage        \n",
    "          \n",
    "Figure 3 & 4: Columns: Wind_Speed(mph), Visibility        \n",
    "              第一个图片 x轴 风速 y轴 事故发生数量         \n",
    "              先找风的阀值 如果事故在风的阀值之上就定义为与风相关的事故        \n",
    "              第二个图片 x轴 能见度 y轴 事故发生数量       \n",
    "              在与风相关的事故中 找与能见度相关的事故        \n",
    "               \n",
    "Figure 5: Columns: City, County, State        "
   ]
  },
  {
   "cell_type": "code",
   "execution_count": null,
   "metadata": {},
   "outputs": [],
   "source": []
  }
 ],
 "metadata": {
  "kernelspec": {
   "display_name": "Python 3",
   "language": "python",
   "name": "python3"
  },
  "language_info": {
   "codemirror_mode": {
    "name": "ipython",
    "version": 3
   },
   "file_extension": ".py",
   "mimetype": "text/x-python",
   "name": "python",
   "nbconvert_exporter": "python",
   "pygments_lexer": "ipython3",
   "version": "3.8.5"
  }
 },
 "nbformat": 4,
 "nbformat_minor": 4
}
